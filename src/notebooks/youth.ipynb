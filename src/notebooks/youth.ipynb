{
 "cells": [
  {
   "cell_type": "markdown",
   "metadata": {},
   "source": [
    "## Import all libraries"
   ]
  },
  {
   "cell_type": "code",
   "execution_count": null,
   "metadata": {},
   "outputs": [],
   "source": [
    "import os, sys\n",
    "\n",
    "# set the working directory\n",
    "sys.path.append(os.getcwd()+ os.sep + \"..\" + os.sep + \"..\")\n",
    "\n",
    "import pandas as pd\n",
    "import pycaret.classification as pc\n",
    "from imblearn.over_sampling import SMOTEN, ADASYN\n",
    "from imblearn.under_sampling import RandomUnderSampler\n",
    "from sklearn import preprocessing\n",
    "from sklearn.model_selection import  train_test_split\n",
    "\n",
    "# import from ../script/data.py in scripts folder\n",
    "from src.scripts.data import CR8_smoke_dict, OR45_dict"
   ]
  },
  {
   "cell_type": "markdown",
   "metadata": {},
   "source": [
    "define some functions"
   ]
  },
  {
   "cell_type": "code",
   "execution_count": null,
   "metadata": {},
   "outputs": [],
   "source": [
    "def read_dataframes(folder_path):\n",
    "    file_list = [f for f in os.listdir(folder_path) if f.endswith('.csv')]\n",
    "    file_list = file_list[2:]\n",
    "    dataframes = {file: pd.read_csv(os.path.join(folder_path, file)) for file in file_list}\n",
    "    return dataframes\n",
    "\n",
    "\n",
    "def get_common_columns(dataframes):\n",
    "    common_columns = dataframes[list(dataframes.keys())[0]].columns\n",
    "    for df in dataframes.values():\n",
    "        common_columns = common_columns.intersection(df.columns)\n",
    "    return common_columns\n",
    "\n",
    "\n",
    "def preprocess_dataframes(dataframes, common_columns):\n",
    "    merged_df = pd.DataFrame()\n",
    "    for i, (file, df) in enumerate(dataframes.items()):\n",
    "        df = df[common_columns]\n",
    "        # df.insert(0, \"State\", file.split(\" \")[2])\n",
    "        df.insert(0, \"State\", i)\n",
    "        merged_df = pd.concat([merged_df, df])\n",
    "    return merged_df\n"
   ]
  },
  {
   "cell_type": "markdown",
   "metadata": {},
   "source": [
    "Import and preprocess data"
   ]
  },
  {
   "cell_type": "code",
   "execution_count": null,
   "metadata": {},
   "outputs": [],
   "source": [
    "\n",
    "# Read dataframes from GYTS folder\n",
    "dataframes = read_dataframes(\"../../data/raw/GYTS/\")\n",
    "\n",
    "# Find common columns in all dataframes\n",
    "common_columns = get_common_columns(dataframes)\n",
    "\n",
    "# Preprocess dataframes\n",
    "merged_df = preprocess_dataframes(dataframes, common_columns)\n",
    "\n",
    "\n",
    "# Rename columns\n",
    "merged_df.rename(columns={\"CR1\": \"Age\"}, inplace=True)\n",
    "merged_df.rename(columns={\"CR2\": \"Gender\"}, inplace=True)\n",
    "merged_df[\"CR8\"] = merged_df[\"CR8\"].map(CR8_smoke_dict)\n",
    "merged_df.rename(columns={\"CR8\": \"Smoke\"}, inplace=True)\n",
    "merged_df.rename(columns={\"OR45\": \"SmokingParents\"}, inplace=True)\n",
    "merged_df.rename(columns={\"OR46\": \"SmokingFriends\"}, inplace=True)\n",
    "merged_df.rename(columns={\"OR1\": \"WorkingParents\"}, inplace=True)\n",
    "merged_df.rename(columns={\"CR22\": \"SeenSmokerInSchool\"}, inplace=True)\n",
    "merged_df.rename(columns={\"CR21\": \"SeenSmokerInPublicPlace\"}, inplace=True)\n",
    "merged_df.rename(columns={\"CR20\": \"SeenSmokerInEnclosedPlace\"}, inplace=True)\n",
    "merged_df.rename(columns={\"CR19\": \"SeenSmokerInHome\"}, inplace=True)\n",
    "merged_df.rename(columns={\"CR5\": \"TriedCigarette\"}, inplace=True)\n",
    "merged_df.rename(columns={\"CR6\": \"AgeFirstCigarette\"}, inplace=True)\n",
    "\n",
    "\n",
    "# Keep only the desired columns\n",
    "# merged_df = merged_df[[\"State\", \"Gender\", \"Age\", \"Smoke\", \"SmokingParents\", \"SmokingFriends\", \"WorkingParents\",\n",
    "#                        \"SeenSmokerInSchool\", \"SeenSmokerInPublicPlace\", \"SeenSmokerInEnclosedPlace\",\n",
    "#                        \"SeenSmokerInHome\", \"TriedCigarette\", \"AgeFirstCigarette\"]]\n",
    "merged_df = merged_df[[\"State\", \"Gender\", \"Age\", \"Smoke\", \"SmokingParents\", \"SmokingFriends\", \"WorkingParents\",\n",
    "                       \"SeenSmokerInSchool\", \"SeenSmokerInPublicPlace\", \"SeenSmokerInEnclosedPlace\",\n",
    "                       \"SeenSmokerInHome\"]]\n",
    "# merged_df = merged_df[[\"State\", \"Gender\", \"Age\", \"Smoke\", \"SmokingParents\", \"SmokingFriends\", \"WorkingParents\"]]\n",
    "\n",
    "# Drop rows with missing values\n",
    "merged_df = merged_df.dropna()\n",
    "\n",
    "merged_df['SmokingFather'] = merged_df['SmokingParents'].apply(lambda x: True if OR45_dict[x] in ['Both', 'Father only'] else False)\n",
    "merged_df['SmokingMother'] = merged_df['SmokingParents'].apply(lambda x: True if OR45_dict[x] in ['Both', 'Mother only'] else False)\n",
    "merged_df = merged_df.drop(columns=['SmokingParents'])\n",
    "\n",
    "# Convert columns to categorical\n",
    "merged_df['State'] = merged_df['State'].astype('int').astype()\n",
    "merged_df[\"Gender\"] = merged_df[\"Gender\"].astype('int').astype('category')\n",
    "merged_df[\"Age\"] = merged_df[\"Age\"].astype('int').astype('category')\n",
    "merged_df[\"Smoke\"] = merged_df[\"Smoke\"].astype('int').astype('category')\n",
    "#merged_df[\"SmokingParents\"] = merged_df[\"SmokingParents\"].astype('int').astype('category')\n",
    "merged_df[\"SmokingFriends\"] = merged_df[\"SmokingFriends\"].astype('int').astype('category')\n",
    "merged_df[\"WorkingParents\"] = merged_df[\"WorkingParents\"].astype('int').astype('category')\n",
    "merged_df[\"SeenSmokerInSchool\"] = merged_df[\"SeenSmokerInSchool\"].astype('int').astype('category')\n",
    "merged_df[\"SeenSmokerInPublicPlace\"] = merged_df[\"SeenSmokerInPublicPlace\"].astype('int').astype('category')\n",
    "merged_df[\"SeenSmokerInEnclosedPlace\"] = merged_df[\"SeenSmokerInEnclosedPlace\"].astype('int').astype('category')\n",
    "merged_df[\"SeenSmokerInHome\"] = merged_df[\"SeenSmokerInHome\"].astype('int').astype('category')\n",
    "# merged_df[\"TriedCigarette\"] = merged_df[\"TriedCigarette\"].astype('category')\n",
    "# merged_df[\"AgeFirstCigarette\"] = merged_df[\"AgeFirstCigarette\"].astype('category')\n",
    "\n",
    "# Convert to boolean\n",
    "merged_df['SmokingFather'] = merged_df['SmokingFather'].astype('bool')\n",
    "merged_df['SmokingMother'] = merged_df['SmokingMother'].astype('bool')\n",
    "\n",
    "# Save the preprocessed dataframe to a CSV file\n",
    "merged_df.to_csv(\"../../data/processed/merged_GYTS.csv\", index=False)\n",
    "\n",
    "merged_df"
   ]
  },
  {
   "cell_type": "markdown",
   "metadata": {},
   "source": [
    "Train and test model"
   ]
  },
  {
   "cell_type": "code",
   "execution_count": null,
   "metadata": {},
   "outputs": [],
   "source": [
    "# # Correlation matrix\n",
    "# corr = merged_df_encoded.corr()\n",
    "# fig, ax = plt.subplots(figsize=(40, 30))\n",
    "# sns.heatmap(corr, annot=True, annot_kws={\"size\": 8}, linewidths=.5, ax=ax)\n",
    "# plt.savefig(\"./data/processed/correlation_matrix.svg\")\n",
    "# # plt.show()\n",
    "\n",
    "# Split the data into train and test sets\n",
    "train, test = train_test_split(merged_df, test_size=0.2, random_state=42)\n",
    "test.reset_index(drop=True, inplace=True)\n",
    "\n",
    "# Split the train set into features and target\n",
    "X = train.drop(columns=[\"Smoke\"])\n",
    "y = train[\"Smoke\"]\n",
    "\n",
    "# Convert y values to categorical values\n",
    "lab = preprocessing.LabelEncoder()\n",
    "y = lab.fit_transform(y)"
   ]
  },
  {
   "cell_type": "markdown",
   "metadata": {},
   "source": [
    "No Sampling"
   ]
  },
  {
   "cell_type": "code",
   "execution_count": null,
   "metadata": {},
   "outputs": [],
   "source": [
    "y = pd.DataFrame(y, columns=[\"Smoke\"])\n",
    "y.reset_index(drop=True, inplace=True)\n",
    "X.reset_index(drop=True, inplace=True)\n",
    "train = pd.concat([X, y] , axis=1)"
   ]
  },
  {
   "cell_type": "markdown",
   "metadata": {},
   "source": [
    "Sampling"
   ]
  },
  {
   "cell_type": "code",
   "execution_count": null,
   "metadata": {},
   "outputs": [],
   "source": [
    "# SMOTE Oversampling\n",
    "# smote = SMOTEN()\n",
    "# smote = ADASYN()\n",
    "smote = RandomUnderSampler()\n",
    "X_resampled, y_resampled = smote.fit_resample(X, y)\n",
    "\n",
    "# Convert array to dataframe\n",
    "y_resampled = pd.DataFrame(y_resampled, columns=['Smoke'])\n",
    "# y = pd.DataFrame(y, columns=['Smoke'])\n",
    "\n",
    "# remove index\n",
    "# X.reset_index(drop=True, inplace=True)\n",
    "# y.reset_index(drop=True, inplace=True)\n",
    "X_resampled.reset_index(drop=True, inplace=True)\n",
    "\n",
    "train = pd.concat([X_resampled, y_resampled], axis=1)\n",
    "# df_resampled = pd.concat([X, y], axis=1)"
   ]
  },
  {
   "cell_type": "markdown",
   "metadata": {},
   "source": [
    "Comparing models"
   ]
  },
  {
   "cell_type": "code",
   "execution_count": null,
   "metadata": {},
   "outputs": [],
   "source": [
    "setup = pc.setup(data=train,\n",
    "                      target='Smoke',\n",
    "                      session_id=123,\n",
    "                      normalize=True,\n",
    "                      transformation=True,\n",
    "                      remove_multicollinearity=True, multicollinearity_threshold=0.95, max_encoding_ohe=0)\n",
    "\n",
    "pc.compare_models()"
   ]
  },
  {
   "cell_type": "markdown",
   "metadata": {},
   "source": [
    "Choosing best model"
   ]
  },
  {
   "cell_type": "code",
   "execution_count": null,
   "metadata": {},
   "outputs": [],
   "source": [
    "# Extra Trees Classifier\n",
    "model = pc.create_model('ridge')\n",
    "\n",
    "\n",
    "# pc.plot_model(model, plot='auc')\n",
    "pc.plot_model(model, plot='pr')\n",
    "pc.plot_model(model, plot='feature')\n",
    "pc.plot_model(model, plot='feature_all',scale=3)\n",
    "pc.plot_model(model, plot='confusion_matrix')\n",
    "\n",
    "final_rf = pc.finalize_model(model)\n",
    "# final_rf\n",
    "pc.predict_model(final_rf)\n",
    "# print(final_rf)\n",
    "\n",
    "unseen_predictions = pc.predict_model(final_rf, data=test)\n",
    "print(unseen_predictions.head())"
   ]
  },
  {
   "cell_type": "code",
   "execution_count": null,
   "metadata": {},
   "outputs": [],
   "source": [
    "# model = ExtraTreesClassifier(model)\n",
    "\n",
    "pd.DataFrame({'Feature': pc.get_config('X_train').columns, 'Value' : abs(model.feature_importances_)}).sort_values(by='Value', ascending=False)"
   ]
  },
  {
   "cell_type": "code",
   "execution_count": null,
   "metadata": {},
   "outputs": [],
   "source": [
    "pc.interpret_model(model, plot='summary')"
   ]
  }
 ],
 "metadata": {
  "kernelspec": {
   "display_name": "Python 3",
   "language": "python",
   "name": "python3"
  },
  "language_info": {
   "codemirror_mode": {
    "name": "ipython",
    "version": 3
   },
   "file_extension": ".py",
   "mimetype": "text/x-python",
   "name": "python",
   "nbconvert_exporter": "python",
   "pygments_lexer": "ipython3",
   "version": "3.9.6"
  }
 },
 "nbformat": 4,
 "nbformat_minor": 2
}
