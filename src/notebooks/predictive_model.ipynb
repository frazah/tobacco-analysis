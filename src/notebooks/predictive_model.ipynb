{
 "cells": [
  {
   "cell_type": "markdown",
   "metadata": {},
   "source": [
    "## Import necessary libraries\n"
   ]
  },
  {
   "cell_type": "code",
   "execution_count": 3,
   "metadata": {
    "ExecuteTime": {
     "end_time": "2024-04-12T13:28:47.154828Z",
     "start_time": "2024-04-12T13:28:47.149095Z"
    }
   },
   "outputs": [],
   "source": [
    "import sys\n",
    "import os\n",
    "\n",
    "# Set the working directory\n",
    "sys.path.append(os.getcwd() + os.sep + \"..\" + os.sep + \"..\")\n",
    "\n",
    "# Import the necessary libraries\n",
    "import pycaret.classification as pc\n",
    "import pandas as pd\n",
    "import src.scripts.mapping_answers_dict as map_dict\n",
    "import seaborn as sns\n",
    "import matplotlib.pyplot as plt\n",
    "from sklearn.utils.class_weight import compute_class_weight, compute_sample_weight\n",
    "from math import sqrt\n"
   ]
  },
  {
   "cell_type": "markdown",
   "metadata": {},
   "source": [
    "## Dataset loading"
   ]
  },
  {
   "cell_type": "code",
   "execution_count": null,
   "metadata": {
    "ExecuteTime": {
     "end_time": "2024-04-12T13:28:48.663618Z",
     "start_time": "2024-04-12T13:28:48.466238Z"
    }
   },
   "outputs": [],
   "source": [
    "# Load the merged dataset\n",
    "dataset = pd.read_csv(\"../../data/processed/GYTS_dataset.csv\")\n",
    "\n",
    "# Convert categorical columns\n",
    "categorical_columns = [\"State\", \"Gender\", \"Age\", \"SmokingFriends\", \"SeenSmokerInPublicPlace\",\n",
    "                       \"SeenSmokerInEnclosedPlace\", \"SeenSmokerInHome\", \"AttractiveSmoker\",\n",
    "                       \"HardQuitSmoke\", \"SmokerConfidentInCelebrations\", \"SchoolWarnings\",\n",
    "                       \"SeenHealthWarnings\", \"AntiTobaccoInEvents\", \"HarmfulPassiveSmoke\"]\n",
    "dataset[categorical_columns] = dataset[categorical_columns].astype('category')\n",
    "\n",
    "# Convert boolean columns\n",
    "boolean_columns = [\"Smoke\", \"SeenSmokerInSchool\", \"ParentWarnings\", \"AntiTobaccoInMedia\",\n",
    "                   \"BanTobaccoOutdoors\", \"SmokingFather\", \"SmokingMother\", \"WorkingFather\",\n",
    "                   \"WorkingMother\"]\n",
    "dataset[boolean_columns] = dataset[boolean_columns].astype('bool')"
   ]
  },
  {
   "cell_type": "markdown",
   "metadata": {},
   "source": [
    "# Comparing models"
   ]
  },
  {
   "cell_type": "code",
   "execution_count": null,
   "metadata": {
    "ExecuteTime": {
     "end_time": "2024-04-12T13:28:54.048737Z",
     "start_time": "2024-04-12T13:28:50.537255Z"
    }
   },
   "outputs": [],
   "source": [
    "setup = pc.setup(data=dataset,\n",
    "                 target='Smoke',\n",
    "                 index=False,\n",
    "                 train_size=0.8,\n",
    "                 session_id=42,\n",
    "                 ordinal_features={\n",
    "                     \"SmokingFriends\": map_dict.OR46_dict.values(),\n",
    "                     \"SeenSmokerInPublicPlace\": map_dict.CR21_dict.values(),\n",
    "                     \"SeenSmokerInEnclosedPlace\": map_dict.CR20_dict.values(),\n",
    "                     \"SeenSmokerInHome\": map_dict.CR19_dict.values(),\n",
    "                     \"HarmfulPassiveSmoke\": map_dict.CR23_dict.values(),\n",
    "                     \"HardQuitSmoke\": map_dict.CR41_dict.values(),\n",
    "                 },\n",
    "                 transformation=True,\n",
    "                 max_encoding_ohe=0,\n",
    "                 n_jobs=10\n",
    "                 )"
   ]
  },
  {
   "cell_type": "markdown",
   "metadata": {},
   "source": [
    "# Compute the class weights"
   ]
  },
  {
   "cell_type": "code",
   "execution_count": null,
   "metadata": {
    "ExecuteTime": {
     "end_time": "2024-04-12T13:29:15.063320Z",
     "start_time": "2024-04-12T13:29:15.048072Z"
    }
   },
   "outputs": [],
   "source": [
    "\n",
    "classes = dataset['Smoke'].unique()\n",
    "\n",
    "class_weights = compute_class_weight(class_weight=\"balanced\", classes=classes, y=pc.get_config(\"y_train_transformed\"))\n",
    "sqrt_weights = [sqrt(weight) for weight in class_weights]\n",
    "\n",
    "class_weights = dict(zip(classes, class_weights))\n",
    "sqrt_weights = dict(zip(classes, sqrt_weights))\n",
    "\n",
    "print(class_weights)\n",
    "print(sqrt_weights)\n"
   ]
  },
  {
   "cell_type": "markdown",
   "metadata": {},
   "source": [
    "Find the best model within the class-weight supporting ones"
   ]
  },
  {
   "cell_type": "code",
   "execution_count": null,
   "metadata": {
    "ExecuteTime": {
     "end_time": "2024-04-12T13:30:33.065919Z",
     "start_time": "2024-04-12T13:30:22.383861Z"
    }
   },
   "outputs": [],
   "source": [
    "#all_models = [ 'lr', 'knn', 'nb', 'dt', 'svm', 'ridge', 'rf', 'qda', 'ada', 'gbc', 'lda', 'et', 'xgboost', 'lightgbm', 'catboost'] #'rbfsvm', 'gpc', 'mlp'\n",
    "\n",
    "# Models that support class weights\n",
    "threshold_optimized_model =[ 'lr', 'dt', 'svm' , 'ridge', 'rf', 'et', 'lightgbm'] # 'rbfsvm'\n",
    "models = {}\n",
    "predicts = pd.DataFrame()\n",
    "\n",
    "for model_name in threshold_optimized_model:\n",
    "    try:\n",
    "        model = pc.create_model(model_name, verbose=False, class_weight=sqrt_weights)\n",
    "        models[model_name] = model\n",
    "        pc.predict_model(model)\n",
    "        predict = pc.pull()\n",
    "        predicts = pd.concat([predicts, predict])\n",
    "    except Exception as e:\n",
    "        print(e)\n",
    "        print(f\"Model {model} cannot have weights\")\n",
    "\n",
    "# Sort the models by MCC\n",
    "predicts = predicts.sort_values('MCC', ascending=False)\n",
    "predicts\n"
   ]
  },
  {
   "cell_type": "markdown",
   "metadata": {},
   "source": [
    "Choosing best model\n"
   ]
  },
  {
   "cell_type": "code",
   "execution_count": null,
   "metadata": {
    "ExecuteTime": {
     "end_time": "2024-03-26T12:59:08.827365800Z",
     "start_time": "2024-03-26T12:59:08.394595300Z"
    }
   },
   "outputs": [],
   "source": [
    "\n",
    "# model = best\n",
    "rf_model = models['rf']\n",
    "rf_ensemble_model = pc.ensemble_model(rf_model, method='Bagging', optimize='MCC', probability_threshold=0.35)\n",
    "\n",
    "pc.predict_model(rf_model)\n",
    "pc.predict_model(rf_ensemble_model)\n",
    "\n",
    "lgbm_model = models['lightgbm']\n",
    "lgbm_ensemble_model = pc.ensemble_model(lgbm_model, method='Bagging', optimize='MCC')\n",
    "\n",
    "pc.predict_model(lgbm_model)\n",
    "pc.predict_model(lgbm_ensemble_model)\n",
    "\n",
    "blended_model = pc.blend_models(estimator_list=[rf_model, lgbm_model], optimize='MCC', probability_threshold=0.4) \n",
    "pc.predict_model(blended_model)\n",
    "\n",
    "pc.plot_model(blended_model, plot='threshold')\n",
    "pc.evaluate_model(blended_model)"
   ]
  },
  {
   "cell_type": "code",
   "execution_count": null,
   "metadata": {},
   "outputs": [],
   "source": [
    "# pc.evaluate_model(ensemble_model)\n",
    "\n",
    "pc.dashboard(blended_model)\n",
    "# print(tuned_weighted_model)"
   ]
  }
 ],
 "metadata": {
  "kernelspec": {
   "display_name": "Python 3",
   "language": "python",
   "name": "python3"
  },
  "language_info": {
   "codemirror_mode": {
    "name": "ipython",
    "version": 3
   },
   "file_extension": ".py",
   "mimetype": "text/x-python",
   "name": "python",
   "nbconvert_exporter": "python",
   "pygments_lexer": "ipython3",
   "version": "3.9.6"
  }
 },
 "nbformat": 4,
 "nbformat_minor": 2
}
