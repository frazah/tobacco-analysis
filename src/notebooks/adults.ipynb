{
 "cells": [
  {
   "cell_type": "code",
   "execution_count": 1,
   "metadata": {},
   "outputs": [],
   "source": [
    "import os, sys\n",
    "import time\n",
    "# set the working directory\n",
    "sys.path.append(os.getcwd()+ \"\\..\\..\")\n",
    "\n",
    "import matplotlib.pyplot as plt\n",
    "import numpy as np\n",
    "import pandas as pd\n",
    "import pycaret.classification as pc\n",
    "import seaborn as sns\n",
    "from imblearn.over_sampling import SMOTEN, ADASYN\n",
    "from imblearn.under_sampling import RandomUnderSampler\n",
    "from sklearn import preprocessing\n",
    "from sklearn.ensemble import ExtraTreesClassifier, GradientBoostingClassifier\n",
    "from sklearn.metrics import accuracy_score, confusion_matrix, f1_score, precision_score, recall_score\n",
    "from sklearn.model_selection import GridSearchCV, RandomizedSearchCV, train_test_split\n",
    "from sklearn.naive_bayes import GaussianNB\n",
    "from sklearn.neighbors import KNeighborsClassifier\n",
    "from sklearn.tree import DecisionTreeClassifier\n",
    "\n",
    "# import from ../script/data.py in scripts folder\n",
    "from src.scripts.data import CR8_smoke_dict, OR45_dict \n",
    "from skopt import BayesSearchCV\n",
    "from skopt.space import Real, Integer, Categorical"
   ]
  },
  {
   "cell_type": "code",
   "execution_count": 32,
   "metadata": {},
   "outputs": [],
   "source": [
    "def read_dataframes(folder_path):\n",
    "    file_list = [f for f in os.listdir(folder_path) if f.endswith('.sas7bdat')]\n",
    "    print(file_list)\n",
    "    dataframes = {file: pd.read_sas(os.path.join(folder_path, file)) for file in file_list}\n",
    "    return dataframes\n",
    "\n",
    "\n",
    "def get_common_columns(dataframes):\n",
    "    # rename all columns to lower case\n",
    "    for df in dataframes.values():\n",
    "        df.columns = df.columns.str.upper()\n",
    "    \n",
    "    common_columns = dataframes[list(dataframes.keys())[0]].columns\n",
    "    for df in dataframes.values():\n",
    "        common_columns = common_columns.intersection(df.columns)\n",
    "    return common_columns\n",
    "\n",
    "\n",
    "def preprocess_dataframes(dataframes, common_columns):\n",
    "    merged_df = pd.DataFrame()\n",
    "    for i, (file, df) in enumerate(dataframes.items()):\n",
    "        df = df[common_columns]\n",
    "        # df.insert(0, \"State\", file.split(\" \")[2])\n",
    "        df.insert(0, \"State\", i)\n",
    "        merged_df = pd.concat([merged_df, df])\n",
    "    return merged_df"
   ]
  },
  {
   "cell_type": "markdown",
   "metadata": {},
   "source": [
    "Data preprocessing"
   ]
  },
  {
   "cell_type": "code",
   "execution_count": 33,
   "metadata": {},
   "outputs": [
    {
     "name": "stdout",
     "output_type": "stream",
     "text": [
      "['GATS 2011 Poland.sas7bdat', 'GATS 2015 Greece.sas7bdat', 'GATS 2018 Romania.sas7bdat']\n"
     ]
    }
   ],
   "source": [
    "# open sas7bdat file\n",
    "# file = pd.read_sas('../../data/raw/GATS/GATS_Greece_National_2013_SAS/GREECE_PUBLIC_USE_11Mar2015.sas7bdat')\n",
    "\n",
    "# Read dataframes from GYTS folder\n",
    "dataframes = read_dataframes(\"../../data/raw/GATS/\")\n",
    "\n",
    "# Find common columns in all dataframes\n",
    "common_columns = get_common_columns(dataframes)\n",
    "\n",
    "# Preprocess dataframes\n",
    "merged_df = preprocess_dataframes(dataframes, common_columns)\n",
    "\n",
    "# Drop rows with missing values\n",
    "# merged_df = merged_df.dropna()"
   ]
  },
  {
   "cell_type": "code",
   "execution_count": null,
   "metadata": {},
   "outputs": [],
   "source": [
    "merged_df.rename(columns={\"AGE\": \"Age\"}, inplace=True)\n",
    "merged_df.rename(columns={\"A01\": \"Gender\"}, inplace=True)\n",
    "merged_df.rename(columns={\"HH4E\": \"Smoke\"}, inplace=True)\n",
    "merged_df.rename(columns={\"A04\": \"Education\"}, inplace=True)\n",
    "\n",
    "# 1 no formal education\n",
    "# 2 primary education\n",
    "# 3 high school\n",
    "# 4 secondary school\n",
    "# 5 university\n",
    "# 6 postgraduate\n",
    "# 7 other\n",
    "\n",
    "greece_dict = {1:1, 2:1, 3:2, }\n",
    "poland_dict = {1:1, 2:1, 3:2}\n",
    "romania_dict = {1:1,2:2,  }\n"
   ]
  }
 ],
 "metadata": {
  "kernelspec": {
   "display_name": "Python 3",
   "language": "python",
   "name": "python3"
  },
  "language_info": {
   "codemirror_mode": {
    "name": "ipython",
    "version": 3
   },
   "file_extension": ".py",
   "mimetype": "text/x-python",
   "name": "python",
   "nbconvert_exporter": "python",
   "pygments_lexer": "ipython3",
   "version": "3.11.4"
  }
 },
 "nbformat": 4,
 "nbformat_minor": 2
}
