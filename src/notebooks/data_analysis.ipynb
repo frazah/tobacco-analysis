{
 "cells": [
  {
   "cell_type": "markdown",
   "metadata": {},
   "source": [
    "# Exploratory Data Analysis (EDA)\n",
    "In questo notebook eseguiremo un'analisi esplorativa dei dati per capire meglio il dataset e le sue caratteristiche."
   ]
  },
  {
   "cell_type": "markdown",
   "metadata": {},
   "source": [
    "## Import delle librerie\n",
    "Iniziamo importando le librerie necessarie per l'analisi dei dati."
   ]
  },
  {
   "cell_type": "code",
   "execution_count": null,
   "metadata": {},
   "outputs": [],
   "source": [
    "import seaborn as sns\n",
    "import matplotlib.pyplot as plt\n",
    "import pandas as pd\n",
    "\n",
    "import sys\n",
    "import os\n",
    "\n",
    "# Set the working directory\n",
    "sys.path.append(os.getcwd() + os.sep + \"..\" + os.sep + \"..\")"
   ]
  },
  {
   "cell_type": "markdown",
   "metadata": {},
   "source": [
    "## Caricamento dei dati\n",
    "Carichiamo il dataset e visualizziamo le prime righe per visualizzare la struttura del dataset."
   ]
  },
  {
   "cell_type": "code",
   "execution_count": null,
   "metadata": {},
   "outputs": [],
   "source": [
    "dataset = pd.read_csv(\"../../data/processed/GYTS_dataset.csv\")\n",
    "dataset.head()"
   ]
  },
  {
   "cell_type": "markdown",
   "metadata": {},
   "source": [
    "## Impostazione del tipo di colonna\n",
    "Impostiamo il tipo di colonna per le colonne categoriche e booleane."
   ]
  },
  {
   "cell_type": "code",
   "execution_count": null,
   "metadata": {},
   "outputs": [],
   "source": [
    "\n",
    "# Conversione delle colonne in categoriche\n",
    "categorical_columns = [\"State\", \"Gender\", \"Age\", \"SmokingFriends\", \"SeenSmokerInPublicPlace\",\n",
    "                       \"SeenSmokerInEnclosedPlace\", \"SeenSmokerInHome\", \"AttractiveSmoker\",\n",
    "                       \"HardQuitSmoke\", \"SmokerConfidentInCelebrations\", \"SchoolWarnings\",\n",
    "                       \"SeenHealthWarnings\", \"AntiTobaccoInEvents\", \"HarmfulPassiveSmoke\"]\n",
    "dataset[categorical_columns] = dataset[categorical_columns].astype('category')\n",
    "\n",
    "# Conversione delle colonne in booleane\n",
    "boolean_columns = [\"Smoke\", \"SeenSmokerInSchool\", \"ParentWarnings\", \"AntiTobaccoInMedia\",\n",
    "                   \"BanTobaccoOutdoors\", \"SmokingFather\", \"SmokingMother\", \"WorkingFather\",\n",
    "                   \"WorkingMother\"]\n",
    "dataset[boolean_columns] = dataset[boolean_columns].astype('bool')\n",
    "\n",
    "classes = dataset['Smoke'].unique()\n",
    "\n",
    "# Lista di tutte le colonne del dataset\n",
    "list_of_columns = dataset.columns.tolist()"
   ]
  },
  {
   "cell_type": "markdown",
   "metadata": {},
   "source": [
    "## Analisi univariata\n",
    "Eseguiamo un'analisi univariata per analizzare distribuzione delle variabili."
   ]
  },
  {
   "cell_type": "code",
   "execution_count": null,
   "metadata": {},
   "outputs": [],
   "source": [
    "# Bar plots\n",
    "for i, column in enumerate(list_of_columns): \n",
    "    fig = plt.plot(figsize=(24, 16))\n",
    "    ax = sns.countplot(x=column, data=dataset, palette='rainbow', zorder=10)\n",
    "    ax.grid(axis='y', alpha=0.6, zorder=0)\n",
    "    ax.bar_label(ax.containers[0], fmt=lambda x: f'{(x/len(dataset[column]))*100:0.1f}%')\n",
    "    \n",
    "    if column in [\"SeenHealthWarnings\", \"Age\"]:\n",
    "        ax.set_xticklabels(ax.get_xticklabels(), rotation=25, ha=\"right\")\n",
    "   \n",
    "    ax.set(title=f\"{column} histogram\");\n",
    "    \n",
    "    plt.savefig(f\"../../data/processed/univariate_analysis/{column}_histogram.png\", dpi=600)\n",
    "    plt.show()"
   ]
  },
  {
   "cell_type": "markdown",
   "metadata": {},
   "source": [
    "## Analisi multivariata\n",
    "Eseguiamo un'analisi multivariata per analizzare la relazione tra le variabili e la variabile target."
   ]
  },
  {
   "cell_type": "code",
   "execution_count": null,
   "metadata": {},
   "outputs": [],
   "source": [
    "import src.scripts.mapping_answers_dict as mp \n",
    "\n",
    "sns.set_theme(style=\"whitegrid\", font_scale=1.2)\n",
    "# Bar plots\n",
    "for i, column in enumerate(list_of_columns):\n",
    "    if column == 'Smoke':\n",
    "        continue\n",
    "    feat = column\n",
    "    hue = 'Smoke'\n",
    "    \n",
    "    groups = dataset[feat].unique()\n",
    "    proportions = dataset.groupby(feat, observed=True)[hue].value_counts(normalize=True) \n",
    "    \n",
    "    if feat in mp.column_mappings_reverse.keys():\n",
    "        order = eval(f\"mp.{mp.column_mappings_reverse[feat]}_dict\").values()\n",
    "    else:\n",
    "        order = None\n",
    "    \n",
    "    fig = plt.figure(figsize=(12, 8))\n",
    "    ax = sns.countplot(x=feat, hue=hue, data=dataset, palette='rainbow', dodge=True, zorder=10, order=order)\n",
    "\n",
    "    for container in ax.containers:\n",
    "        labels = [f'{proportions.loc[g, True if container.get_label() == \"True\" else False]:.1%}' for g in groups]\n",
    "        ax.bar_label(container, labels)\n",
    "    ax.set(title=f\"Smoker vs {column}\");\n",
    "    \n",
    "    if column in [\"SeenHealthWarnings\", \"Age\"]:\n",
    "        ax.set_xticklabels(ax.get_xticklabels(), rotation=25, ha=\"right\")\n",
    "    # tight_layout() is used to avoid overlapping of the labels\n",
    "    plt.tight_layout()\n",
    "    plt.savefig(f\"../../data/processed/multivariate_analysis/{column}_histogram.png\", dpi=600)\n",
    "    plt.show()\n"
   ]
  },
  {
   "cell_type": "markdown",
   "metadata": {},
   "source": [
    "## Tabella delle associazioni\n",
    "Creiamo una tabella delle associazioni per analizzare la relazione tra le variabili."
   ]
  },
  {
   "cell_type": "code",
   "execution_count": null,
   "metadata": {},
   "outputs": [],
   "source": [
    "# from scipy.stats import chi2_contingency\n",
    "from scipy.stats.contingency import association\n",
    "    \n",
    "# Tabella di associazione\n",
    "association_table = pd.DataFrame(index=list_of_columns, columns=list_of_columns)\n",
    "association_table = association_table.astype('float')\n",
    "\n",
    "# Calcolo dell'associazione tra le colonne\n",
    "for col1 in list_of_columns:\n",
    "    for col2 in list_of_columns:\n",
    "        frequency_table = pd.crosstab(dataset[col1], dataset[col2])\n",
    "        association_value = association(frequency_table) \n",
    "        association_table.loc[col1, col2] = association_value\n",
    "\n",
    "# Plot della tabella di associazione\n",
    "plt.figure(figsize=(24, 18))\n",
    "ax = sns.heatmap(association_table, annot=True, fmt=\".2f\")\n",
    "plt.savefig(\"../../data/processed/association_table.png\", dpi=600)\n",
    "plt.show()\n",
    "\n",
    "association_table.to_csv(\"../../data/processed/association_table.csv\")"
   ]
  },
  {
   "cell_type": "markdown",
   "metadata": {},
   "source": [
    "## Countplots delle associazioni > 0.25\n",
    "Visualizziamo i countplots delle associazioni con un valore superiore a 0.25 per analizzare le relazione tra le variabili."
   ]
  },
  {
   "cell_type": "code",
   "execution_count": null,
   "metadata": {},
   "outputs": [],
   "source": [
    "for i, col1 in enumerate(list_of_columns):\n",
    "    for j, col2 in enumerate(list_of_columns):\n",
    "        if i < j and association_table.loc[col1, col2] > 0.25:\n",
    "            fig = plt.plot(figsize=(24, 16))\n",
    "            ax = sns.countplot(x=col1, hue=col2, data=dataset, palette='rainbow', dodge=True, zorder=10)\n",
    "            ax.grid(axis='y', alpha=0.6, zorder=0)\n",
    "            for container in ax.containers:\n",
    "                ax.bar_label(container, fmt=lambda x: f'{(x/len(dataset[col1]))*100:0.1f}%')\n",
    "            ax.set(title=f\"{col1} vs {col2}\");\n",
    "            \n",
    "            plt.savefig(f\"../../data/processed/multivariate_analysis/{col1}_histogram.png\", dpi=600)\n",
    "            plt.show()"
   ]
  }
 ],
 "metadata": {
  "kernelspec": {
   "display_name": ".venv",
   "language": "python",
   "name": "python3"
  },
  "language_info": {
   "codemirror_mode": {
    "name": "ipython",
    "version": 3
   },
   "file_extension": ".py",
   "mimetype": "text/x-python",
   "name": "python",
   "nbconvert_exporter": "python",
   "pygments_lexer": "ipython3",
   "version": "3.11.4"
  }
 },
 "nbformat": 4,
 "nbformat_minor": 2
}
